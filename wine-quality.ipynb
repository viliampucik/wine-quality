{
 "cells": [
  {
   "cell_type": "markdown",
   "metadata": {},
   "source": [
    "# Wine Quality"
   ]
  },
  {
   "cell_type": "code",
   "execution_count": 1,
   "metadata": {},
   "outputs": [],
   "source": [
    "import os\n",
    "import pandas as pd\n",
    "from sklearn.model_selection import train_test_split\n",
    "from sklearn.metrics import mean_squared_error, mean_absolute_error, r2_score\n",
    "from sklearn.linear_model import ElasticNet\n",
    "import mlflow\n",
    "import mlflow.sklearn"
   ]
  },
  {
   "cell_type": "code",
   "execution_count": 2,
   "metadata": {},
   "outputs": [],
   "source": [
    "#mlflow.set_tracking_uri(\"sqlite:///wine-quality.sqlite\")"
   ]
  },
  {
   "cell_type": "code",
   "execution_count": 3,
   "metadata": {},
   "outputs": [
    {
     "data": {
      "text/plain": [
       "'http://ec2-34-193-144-194.compute-1.amazonaws.com:5000'"
      ]
     },
     "execution_count": 3,
     "metadata": {},
     "output_type": "execute_result"
    }
   ],
   "source": [
    "mlflow.get_tracking_uri()"
   ]
  },
  {
   "cell_type": "code",
   "execution_count": 4,
   "metadata": {},
   "outputs": [],
   "source": [
    "# Loading data from a CSV file\n",
    "df_wine = pd.read_csv('./wine-quality.csv')\n",
    "\n",
    "# Separating the target class ('quality') from remainder of the training data\n",
    "X = df_wine.drop(columns = 'quality')\n",
    "\n",
    "y = df_wine[['quality']]\n",
    "\n",
    "# Splitting the data into training and validation sets\n",
    "X_train, X_val, y_train, y_val = train_test_split(X, y, random_state = 42)"
   ]
  },
  {
   "cell_type": "markdown",
   "metadata": {},
   "source": [
    "## Model Training and Logging"
   ]
  },
  {
   "cell_type": "code",
   "execution_count": 5,
   "metadata": {},
   "outputs": [
    {
     "data": {
      "text/plain": [
       "{'name': 'mlflow-env',\n",
       " 'channels': ['defaults'],\n",
       " 'dependencies': ['python', 'scikit-learn=0.23.1', {'pip': ['mlflow']}]}"
      ]
     },
     "execution_count": 5,
     "metadata": {},
     "output_type": "execute_result"
    }
   ],
   "source": [
    "# Fix Conda Python version used by Seldon Core MLflow in Kubernetes\n",
    "conda_env = mlflow.sklearn.get_default_conda_env()\n",
    "\n",
    "for i, dep in enumerate(conda_env['dependencies']):\n",
    "    if type(dep) == str and dep.startswith(\"python=\"):\n",
    "        conda_env['dependencies'][i] = \"python\"\n",
    "\n",
    "conda_env"
   ]
  },
  {
   "cell_type": "code",
   "execution_count": 6,
   "metadata": {},
   "outputs": [
    {
     "name": "stderr",
     "output_type": "stream",
     "text": [
      "Registered model 'wine-model-a' already exists. Creating a new version of this model...\n",
      "Created version '4' of model 'wine-model-a'.\n",
      "Registered model 'wine-model-b' already exists. Creating a new version of this model...\n",
      "Created version '4' of model 'wine-model-b'.\n"
     ]
    }
   ],
   "source": [
    "# Defining model parameters\n",
    "for name, alpha, l1_ratio in [(\"wine-model-a\", 0.5, 0.5), (\"wine-model-b\", 1.0, 0.5)]:\n",
    "    # Running MLFlow script\n",
    "    with mlflow.start_run():\n",
    "\n",
    "        # Instantiating model with model parameters\n",
    "        model = ElasticNet(alpha = alpha, l1_ratio = l1_ratio)\n",
    "\n",
    "        # Fitting training data to the model\n",
    "        model.fit(X_train, y_train)\n",
    "\n",
    "        # Running prediction on validation dataset\n",
    "        preds = model.predict(X_val)\n",
    "\n",
    "        # Getting metrics on the validation dataset\n",
    "        rmse = mean_squared_error(preds, y_val)\n",
    "        abs_error = mean_absolute_error(preds, y_val)\n",
    "        r2 = r2_score(preds, y_val)\n",
    "\n",
    "        # Logging params and metrics to MLFlow\n",
    "        mlflow.log_param('alpha', alpha)\n",
    "        mlflow.log_param('l1_ratio', l1_ratio)\n",
    "        mlflow.log_metric('rmse', rmse)\n",
    "        mlflow.log_metric('abs_error', abs_error)\n",
    "        mlflow.log_metric('r2', r2)\n",
    "\n",
    "        # Logging model to MLFlow. Requires MLflow (Server) with DB backend\n",
    "        mlflow.sklearn.log_model(\n",
    "            sk_model = model,\n",
    "            artifact_path = \"\",\n",
    "            registered_model_name = name,\n",
    "            conda_env = conda_env\n",
    "        )"
   ]
  },
  {
   "cell_type": "code",
   "execution_count": 7,
   "metadata": {},
   "outputs": [],
   "source": [
    "df = mlflow.search_runs(filter_string=\"metrics.rmse < 1\")"
   ]
  },
  {
   "cell_type": "code",
   "execution_count": 8,
   "metadata": {},
   "outputs": [
    {
     "data": {
      "text/html": [
       "<div>\n",
       "<style scoped>\n",
       "    .dataframe tbody tr th:only-of-type {\n",
       "        vertical-align: middle;\n",
       "    }\n",
       "\n",
       "    .dataframe tbody tr th {\n",
       "        vertical-align: top;\n",
       "    }\n",
       "\n",
       "    .dataframe thead th {\n",
       "        text-align: right;\n",
       "    }\n",
       "</style>\n",
       "<table border=\"1\" class=\"dataframe\">\n",
       "  <thead>\n",
       "    <tr style=\"text-align: right;\">\n",
       "      <th></th>\n",
       "      <th>run_id</th>\n",
       "      <th>experiment_id</th>\n",
       "      <th>status</th>\n",
       "      <th>artifact_uri</th>\n",
       "      <th>start_time</th>\n",
       "      <th>end_time</th>\n",
       "      <th>metrics.abs_error</th>\n",
       "      <th>metrics.rmse</th>\n",
       "      <th>metrics.r2</th>\n",
       "      <th>params.l1_ratio</th>\n",
       "      <th>params.alpha</th>\n",
       "      <th>tags.mlflow.source.type</th>\n",
       "      <th>tags.mlflow.user</th>\n",
       "      <th>tags.mlflow.log-model.history</th>\n",
       "      <th>tags.mlflow.source.name</th>\n",
       "    </tr>\n",
       "  </thead>\n",
       "  <tbody>\n",
       "    <tr>\n",
       "      <th>0</th>\n",
       "      <td>0ad40a05a5b841b7af3578fe715194a1</td>\n",
       "      <td>0</td>\n",
       "      <td>FINISHED</td>\n",
       "      <td>s3://mlflow/0/0ad40a05a5b841b7af3578fe715194a1...</td>\n",
       "      <td>2021-02-10 23:24:09.917000+00:00</td>\n",
       "      <td>2021-02-10 23:24:12.288000+00:00</td>\n",
       "      <td>0.654921</td>\n",
       "      <td>0.735682</td>\n",
       "      <td>-25.157627</td>\n",
       "      <td>0.5</td>\n",
       "      <td>1.0</td>\n",
       "      <td>LOCAL</td>\n",
       "      <td>root</td>\n",
       "      <td>[{\"run_id\": \"0ad40a05a5b841b7af3578fe715194a1\"...</td>\n",
       "      <td>/opt/conda/envs/rapids/lib/python3.7/site-pack...</td>\n",
       "    </tr>\n",
       "    <tr>\n",
       "      <th>1</th>\n",
       "      <td>37bc47bfe3974f5eb2dbe287fa0048be</td>\n",
       "      <td>0</td>\n",
       "      <td>FINISHED</td>\n",
       "      <td>s3://mlflow/0/37bc47bfe3974f5eb2dbe287fa0048be...</td>\n",
       "      <td>2021-02-10 23:24:07.137000+00:00</td>\n",
       "      <td>2021-02-10 23:24:09.747000+00:00</td>\n",
       "      <td>0.633893</td>\n",
       "      <td>0.674361</td>\n",
       "      <td>-13.469377</td>\n",
       "      <td>0.5</td>\n",
       "      <td>0.5</td>\n",
       "      <td>LOCAL</td>\n",
       "      <td>root</td>\n",
       "      <td>[{\"run_id\": \"37bc47bfe3974f5eb2dbe287fa0048be\"...</td>\n",
       "      <td>/opt/conda/envs/rapids/lib/python3.7/site-pack...</td>\n",
       "    </tr>\n",
       "    <tr>\n",
       "      <th>2</th>\n",
       "      <td>98c431b4ffec4ede858e00b9f520396a</td>\n",
       "      <td>0</td>\n",
       "      <td>FINISHED</td>\n",
       "      <td>s3://mlflow/0/98c431b4ffec4ede858e00b9f520396a...</td>\n",
       "      <td>2021-02-10 22:56:13.257000+00:00</td>\n",
       "      <td>2021-02-10 22:56:15.609000+00:00</td>\n",
       "      <td>0.654921</td>\n",
       "      <td>0.735682</td>\n",
       "      <td>-25.157627</td>\n",
       "      <td>0.5</td>\n",
       "      <td>1.0</td>\n",
       "      <td>LOCAL</td>\n",
       "      <td>root</td>\n",
       "      <td>[{\"run_id\": \"98c431b4ffec4ede858e00b9f520396a\"...</td>\n",
       "      <td>/opt/conda/envs/rapids/lib/python3.7/site-pack...</td>\n",
       "    </tr>\n",
       "    <tr>\n",
       "      <th>3</th>\n",
       "      <td>4a8e6595f58645b5891f8fd98346b958</td>\n",
       "      <td>0</td>\n",
       "      <td>FINISHED</td>\n",
       "      <td>s3://mlflow/0/4a8e6595f58645b5891f8fd98346b958...</td>\n",
       "      <td>2021-02-10 22:56:10.479000+00:00</td>\n",
       "      <td>2021-02-10 22:56:13.086000+00:00</td>\n",
       "      <td>0.633893</td>\n",
       "      <td>0.674361</td>\n",
       "      <td>-13.469377</td>\n",
       "      <td>0.5</td>\n",
       "      <td>0.5</td>\n",
       "      <td>LOCAL</td>\n",
       "      <td>root</td>\n",
       "      <td>[{\"run_id\": \"4a8e6595f58645b5891f8fd98346b958\"...</td>\n",
       "      <td>/opt/conda/envs/rapids/lib/python3.7/site-pack...</td>\n",
       "    </tr>\n",
       "    <tr>\n",
       "      <th>4</th>\n",
       "      <td>d01d284fd9974a97b8780bc9d6457b71</td>\n",
       "      <td>0</td>\n",
       "      <td>FINISHED</td>\n",
       "      <td>s3://mlflow/0/d01d284fd9974a97b8780bc9d6457b71...</td>\n",
       "      <td>2021-02-10 22:54:18.142000+00:00</td>\n",
       "      <td>2021-02-10 22:54:20.612000+00:00</td>\n",
       "      <td>0.654921</td>\n",
       "      <td>0.735682</td>\n",
       "      <td>-25.157627</td>\n",
       "      <td>0.5</td>\n",
       "      <td>1.0</td>\n",
       "      <td>LOCAL</td>\n",
       "      <td>root</td>\n",
       "      <td>[{\"run_id\": \"d01d284fd9974a97b8780bc9d6457b71\"...</td>\n",
       "      <td>/opt/conda/envs/rapids/lib/python3.7/site-pack...</td>\n",
       "    </tr>\n",
       "    <tr>\n",
       "      <th>5</th>\n",
       "      <td>831b02af0cbf43baa59ae71e846f009e</td>\n",
       "      <td>0</td>\n",
       "      <td>FINISHED</td>\n",
       "      <td>s3://mlflow/0/831b02af0cbf43baa59ae71e846f009e...</td>\n",
       "      <td>2021-02-10 22:54:15.459000+00:00</td>\n",
       "      <td>2021-02-10 22:54:17.972000+00:00</td>\n",
       "      <td>0.633893</td>\n",
       "      <td>0.674361</td>\n",
       "      <td>-13.469377</td>\n",
       "      <td>0.5</td>\n",
       "      <td>0.5</td>\n",
       "      <td>LOCAL</td>\n",
       "      <td>root</td>\n",
       "      <td>[{\"run_id\": \"831b02af0cbf43baa59ae71e846f009e\"...</td>\n",
       "      <td>/opt/conda/envs/rapids/lib/python3.7/site-pack...</td>\n",
       "    </tr>\n",
       "    <tr>\n",
       "      <th>6</th>\n",
       "      <td>d772a559568f4db7bab58ec8bd118026</td>\n",
       "      <td>0</td>\n",
       "      <td>FINISHED</td>\n",
       "      <td>s3://mlflow/0/d772a559568f4db7bab58ec8bd118026...</td>\n",
       "      <td>2021-02-10 22:15:10.995000+00:00</td>\n",
       "      <td>2021-02-10 22:15:14.155000+00:00</td>\n",
       "      <td>0.654921</td>\n",
       "      <td>0.735682</td>\n",
       "      <td>-25.157627</td>\n",
       "      <td>0.5</td>\n",
       "      <td>1.0</td>\n",
       "      <td>LOCAL</td>\n",
       "      <td>root</td>\n",
       "      <td>[{\"run_id\": \"d772a559568f4db7bab58ec8bd118026\"...</td>\n",
       "      <td>/opt/conda/envs/rapids/lib/python3.7/site-pack...</td>\n",
       "    </tr>\n",
       "    <tr>\n",
       "      <th>7</th>\n",
       "      <td>bbb6865cbf854ba48d54e85a2fedf700</td>\n",
       "      <td>0</td>\n",
       "      <td>FINISHED</td>\n",
       "      <td>s3://mlflow/0/bbb6865cbf854ba48d54e85a2fedf700...</td>\n",
       "      <td>2021-02-10 22:15:05.434000+00:00</td>\n",
       "      <td>2021-02-10 22:15:10.805000+00:00</td>\n",
       "      <td>0.633893</td>\n",
       "      <td>0.674361</td>\n",
       "      <td>-13.469377</td>\n",
       "      <td>0.5</td>\n",
       "      <td>0.5</td>\n",
       "      <td>LOCAL</td>\n",
       "      <td>root</td>\n",
       "      <td>[{\"run_id\": \"bbb6865cbf854ba48d54e85a2fedf700\"...</td>\n",
       "      <td>/opt/conda/envs/rapids/lib/python3.7/site-pack...</td>\n",
       "    </tr>\n",
       "  </tbody>\n",
       "</table>\n",
       "</div>"
      ],
      "text/plain": [
       "                             run_id experiment_id    status  \\\n",
       "0  0ad40a05a5b841b7af3578fe715194a1             0  FINISHED   \n",
       "1  37bc47bfe3974f5eb2dbe287fa0048be             0  FINISHED   \n",
       "2  98c431b4ffec4ede858e00b9f520396a             0  FINISHED   \n",
       "3  4a8e6595f58645b5891f8fd98346b958             0  FINISHED   \n",
       "4  d01d284fd9974a97b8780bc9d6457b71             0  FINISHED   \n",
       "5  831b02af0cbf43baa59ae71e846f009e             0  FINISHED   \n",
       "6  d772a559568f4db7bab58ec8bd118026             0  FINISHED   \n",
       "7  bbb6865cbf854ba48d54e85a2fedf700             0  FINISHED   \n",
       "\n",
       "                                        artifact_uri  \\\n",
       "0  s3://mlflow/0/0ad40a05a5b841b7af3578fe715194a1...   \n",
       "1  s3://mlflow/0/37bc47bfe3974f5eb2dbe287fa0048be...   \n",
       "2  s3://mlflow/0/98c431b4ffec4ede858e00b9f520396a...   \n",
       "3  s3://mlflow/0/4a8e6595f58645b5891f8fd98346b958...   \n",
       "4  s3://mlflow/0/d01d284fd9974a97b8780bc9d6457b71...   \n",
       "5  s3://mlflow/0/831b02af0cbf43baa59ae71e846f009e...   \n",
       "6  s3://mlflow/0/d772a559568f4db7bab58ec8bd118026...   \n",
       "7  s3://mlflow/0/bbb6865cbf854ba48d54e85a2fedf700...   \n",
       "\n",
       "                        start_time                         end_time  \\\n",
       "0 2021-02-10 23:24:09.917000+00:00 2021-02-10 23:24:12.288000+00:00   \n",
       "1 2021-02-10 23:24:07.137000+00:00 2021-02-10 23:24:09.747000+00:00   \n",
       "2 2021-02-10 22:56:13.257000+00:00 2021-02-10 22:56:15.609000+00:00   \n",
       "3 2021-02-10 22:56:10.479000+00:00 2021-02-10 22:56:13.086000+00:00   \n",
       "4 2021-02-10 22:54:18.142000+00:00 2021-02-10 22:54:20.612000+00:00   \n",
       "5 2021-02-10 22:54:15.459000+00:00 2021-02-10 22:54:17.972000+00:00   \n",
       "6 2021-02-10 22:15:10.995000+00:00 2021-02-10 22:15:14.155000+00:00   \n",
       "7 2021-02-10 22:15:05.434000+00:00 2021-02-10 22:15:10.805000+00:00   \n",
       "\n",
       "   metrics.abs_error  metrics.rmse  metrics.r2 params.l1_ratio params.alpha  \\\n",
       "0           0.654921      0.735682  -25.157627             0.5          1.0   \n",
       "1           0.633893      0.674361  -13.469377             0.5          0.5   \n",
       "2           0.654921      0.735682  -25.157627             0.5          1.0   \n",
       "3           0.633893      0.674361  -13.469377             0.5          0.5   \n",
       "4           0.654921      0.735682  -25.157627             0.5          1.0   \n",
       "5           0.633893      0.674361  -13.469377             0.5          0.5   \n",
       "6           0.654921      0.735682  -25.157627             0.5          1.0   \n",
       "7           0.633893      0.674361  -13.469377             0.5          0.5   \n",
       "\n",
       "  tags.mlflow.source.type tags.mlflow.user  \\\n",
       "0                   LOCAL             root   \n",
       "1                   LOCAL             root   \n",
       "2                   LOCAL             root   \n",
       "3                   LOCAL             root   \n",
       "4                   LOCAL             root   \n",
       "5                   LOCAL             root   \n",
       "6                   LOCAL             root   \n",
       "7                   LOCAL             root   \n",
       "\n",
       "                       tags.mlflow.log-model.history  \\\n",
       "0  [{\"run_id\": \"0ad40a05a5b841b7af3578fe715194a1\"...   \n",
       "1  [{\"run_id\": \"37bc47bfe3974f5eb2dbe287fa0048be\"...   \n",
       "2  [{\"run_id\": \"98c431b4ffec4ede858e00b9f520396a\"...   \n",
       "3  [{\"run_id\": \"4a8e6595f58645b5891f8fd98346b958\"...   \n",
       "4  [{\"run_id\": \"d01d284fd9974a97b8780bc9d6457b71\"...   \n",
       "5  [{\"run_id\": \"831b02af0cbf43baa59ae71e846f009e\"...   \n",
       "6  [{\"run_id\": \"d772a559568f4db7bab58ec8bd118026\"...   \n",
       "7  [{\"run_id\": \"bbb6865cbf854ba48d54e85a2fedf700\"...   \n",
       "\n",
       "                             tags.mlflow.source.name  \n",
       "0  /opt/conda/envs/rapids/lib/python3.7/site-pack...  \n",
       "1  /opt/conda/envs/rapids/lib/python3.7/site-pack...  \n",
       "2  /opt/conda/envs/rapids/lib/python3.7/site-pack...  \n",
       "3  /opt/conda/envs/rapids/lib/python3.7/site-pack...  \n",
       "4  /opt/conda/envs/rapids/lib/python3.7/site-pack...  \n",
       "5  /opt/conda/envs/rapids/lib/python3.7/site-pack...  \n",
       "6  /opt/conda/envs/rapids/lib/python3.7/site-pack...  \n",
       "7  /opt/conda/envs/rapids/lib/python3.7/site-pack...  "
      ]
     },
     "execution_count": 8,
     "metadata": {},
     "output_type": "execute_result"
    }
   ],
   "source": [
    "df"
   ]
  },
  {
   "cell_type": "code",
   "execution_count": 9,
   "metadata": {},
   "outputs": [],
   "source": [
    "#Fetching Run ID for best model\n",
    "# run_id = df.loc[df['metrics.rmse'].idxmin()]['run_id']\n",
    "#best_model_url = df.loc[df['metrics.rmse'].idxmin()][\"artifact_uri\"]\n",
    "# Load model as a PyFuncModel.\n",
    "#best_model = mlflow.pyfunc.load_model(best_model_url)\n",
    "#y_pred = best_model.predict(X_val)\n",
    "#print(y_pred[0:10])"
   ]
  },
  {
   "cell_type": "markdown",
   "metadata": {},
   "source": [
    "# Kubernetes"
   ]
  },
  {
   "cell_type": "markdown",
   "metadata": {},
   "source": [
    "Deploy AB model via Seldon Core to a local Kubernetes cluster. Generate some sample traffic. Then remove AB models and all its pods and services from the cluster"
   ]
  },
  {
   "cell_type": "markdown",
   "metadata": {},
   "source": [
    "## Deploy AB Model from MLflow to Seldon Core"
   ]
  },
  {
   "cell_type": "code",
   "execution_count": 10,
   "metadata": {},
   "outputs": [],
   "source": [
    "from mlflow.tracking import MlflowClient\n",
    "\n",
    "client = MlflowClient()\n",
    "\n",
    "model_a_version = client.get_latest_versions(\"wine-model-a\", stages=[\"None\"])[0].version\n",
    "model_b_version = client.get_latest_versions(\"wine-model-b\", stages=[\"None\"])[0].version"
   ]
  },
  {
   "cell_type": "code",
   "execution_count": 11,
   "metadata": {},
   "outputs": [],
   "source": [
    "import seldon_core_utils"
   ]
  },
  {
   "cell_type": "code",
   "execution_count": 15,
   "metadata": {},
   "outputs": [
    {
     "name": "stderr",
     "output_type": "stream",
     "text": [
      "/opt/conda/envs/rapids/lib/python3.7/site-packages/urllib3/connectionpool.py:988: InsecureRequestWarning: Unverified HTTPS request is being made to host 'kubernetes.default.svc.cluster.local'. Adding certificate verification is strongly advised. See: https://urllib3.readthedocs.io/en/latest/advanced-usage.html#ssl-warnings\n",
      "  InsecureRequestWarning,\n"
     ]
    },
    {
     "data": {
      "text/plain": [
       "<Response [409]>"
      ]
     },
     "execution_count": 15,
     "metadata": {},
     "output_type": "execute_result"
    }
   ],
   "source": [
    "seldon_core_utils.ab_deployment(\n",
    "    name=\"ab\",\n",
    "    namespace=\"default\",\n",
    "    secret_name=\"mlflow-seldon-secret\",\n",
    "    model_a_name=\"wine-model-a\",\n",
    "    model_a_version=model_a_version,\n",
    "    model_b_name=\"wine-model-b\",\n",
    "    model_b_version=model_b_version,\n",
    "    model_a_traffic=50,\n",
    ")"
   ]
  },
  {
   "cell_type": "markdown",
   "metadata": {},
   "source": [
    "## Generate Traffic to AB Model"
   ]
  },
  {
   "cell_type": "markdown",
   "metadata": {},
   "source": [
    "Wait for the model to be fully deployed, then execute the below statements!"
   ]
  },
  {
   "cell_type": "code",
   "execution_count": 16,
   "metadata": {},
   "outputs": [
    {
     "name": "stdout",
     "output_type": "stream",
     "text": [
      "Send 10 requests\n",
      "Send 20 requests\n",
      "Send 30 requests\n",
      "Send 40 requests\n",
      "Send 50 requests\n",
      "Send 60 requests\n",
      "Send 70 requests\n",
      "Send 80 requests\n",
      "Send 90 requests\n",
      "Send 100 requests\n"
     ]
    }
   ],
   "source": [
    "import requests\n",
    "import time\n",
    "\n",
    "headers = {\"Content-Type\": \"application/json\"}\n",
    "body = {\"data\":{\"ndarray\":[[7,0.27,0.36,20.7,0.045,45,170,1.001,3,0.45,8.8]]}}\n",
    "\n",
    "for i in range(1, 101):\n",
    "    if i % 10 == 0:\n",
    "        print(f\"Send {i} requests\")\n",
    "    requests.post(\n",
    "        url=\"http://ab-wine-model-a.default.svc.cluster.local:8000/api/v1.0/predictions\",\n",
    "        json=body,\n",
    "        headers=headers,\n",
    "        verify=False,\n",
    "        timeout=30\n",
    "    )\n",
    "    time.sleep(0.1)"
   ]
  },
  {
   "cell_type": "markdown",
   "metadata": {},
   "source": [
    "## Delete AB Model from Seldon Core"
   ]
  },
  {
   "cell_type": "code",
   "execution_count": null,
   "metadata": {},
   "outputs": [],
   "source": [
    "seldon_core_utils.ab_undeployment(name=\"ab\", namespace=\"default\")"
   ]
  }
 ],
 "metadata": {
  "kernelspec": {
   "display_name": "Python 3",
   "language": "python",
   "name": "python3"
  },
  "language_info": {
   "codemirror_mode": {
    "name": "ipython",
    "version": 3
   },
   "file_extension": ".py",
   "mimetype": "text/x-python",
   "name": "python",
   "nbconvert_exporter": "python",
   "pygments_lexer": "ipython3",
   "version": "3.7.8"
  }
 },
 "nbformat": 4,
 "nbformat_minor": 5
}
