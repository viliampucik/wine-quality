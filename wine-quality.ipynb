{
 "cells": [
  {
   "cell_type": "markdown",
   "id": "authentic-punch",
   "metadata": {},
   "source": [
    "# Wine Quality"
   ]
  },
  {
   "cell_type": "code",
   "execution_count": null,
   "id": "western-scope",
   "metadata": {},
   "outputs": [],
   "source": [
    "import os\n",
    "import pandas as pd\n",
    "from sklearn.model_selection import train_test_split\n",
    "from sklearn.metrics import mean_squared_error, mean_absolute_error, r2_score\n",
    "from sklearn.linear_model import ElasticNet\n",
    "import mlflow\n",
    "import mlflow.sklearn"
   ]
  },
  {
   "cell_type": "code",
   "execution_count": null,
   "id": "occupied-victor",
   "metadata": {},
   "outputs": [],
   "source": [
    "#mlflow.set_tracking_uri(\"sqlite:///wine-quality.sqlite\")"
   ]
  },
  {
   "cell_type": "code",
   "execution_count": null,
   "id": "worse-placement",
   "metadata": {},
   "outputs": [],
   "source": [
    "mlflow.get_tracking_uri()"
   ]
  },
  {
   "cell_type": "code",
   "execution_count": null,
   "id": "grave-failing",
   "metadata": {},
   "outputs": [],
   "source": [
    "# Loading data from a CSV file\n",
    "df_wine = pd.read_csv('./wine-quality.csv')\n",
    "\n",
    "# Separating the target class ('quality') from remainder of the training data\n",
    "X = df_wine.drop(columns = 'quality')\n",
    "\n",
    "y = df_wine[['quality']]\n",
    "\n",
    "# Splitting the data into training and validation sets\n",
    "X_train, X_val, y_train, y_val = train_test_split(X, y, random_state = 42)"
   ]
  },
  {
   "cell_type": "markdown",
   "id": "spanish-heath",
   "metadata": {},
   "source": [
    "## Model Training and Logging"
   ]
  },
  {
   "cell_type": "code",
   "execution_count": null,
   "id": "specific-baseball",
   "metadata": {},
   "outputs": [],
   "source": [
    "# Fix Conda Python version used by Seldon Core MLflow in Kubernetes\n",
    "conda_env = mlflow.sklearn.get_default_conda_env()\n",
    "\n",
    "for i, dep in enumerate(conda_env['dependencies']):\n",
    "    if type(dep) == str and dep.startswith(\"python=\"):\n",
    "        conda_env['dependencies'][i] = \"python\"\n",
    "\n",
    "conda_env"
   ]
  },
  {
   "cell_type": "code",
   "execution_count": null,
   "id": "further-coordination",
   "metadata": {},
   "outputs": [],
   "source": [
    "# Defining model parameters\n",
    "for name, alpha, l1_ratio in [(\"wine-model-a\", 0.5, 0.5), (\"wine-model-b\", 1.0, 0.5)]:\n",
    "    # Running MLFlow script\n",
    "    with mlflow.start_run():\n",
    "\n",
    "        # Instantiating model with model parameters\n",
    "        model = ElasticNet(alpha = alpha, l1_ratio = l1_ratio)\n",
    "\n",
    "        # Fitting training data to the model\n",
    "        model.fit(X_train, y_train)\n",
    "\n",
    "        # Running prediction on validation dataset\n",
    "        preds = model.predict(X_val)\n",
    "\n",
    "        # Getting metrics on the validation dataset\n",
    "        rmse = mean_squared_error(preds, y_val)\n",
    "        abs_error = mean_absolute_error(preds, y_val)\n",
    "        r2 = r2_score(preds, y_val)\n",
    "\n",
    "        # Logging params and metrics to MLFlow\n",
    "        mlflow.log_param('alpha', alpha)\n",
    "        mlflow.log_param('l1_ratio', l1_ratio)\n",
    "        mlflow.log_metric('rmse', rmse)\n",
    "        mlflow.log_metric('abs_error', abs_error)\n",
    "        mlflow.log_metric('r2', r2)\n",
    "\n",
    "        # Logging model to MLFlow. Requires MLflow (Server) with DB backend\n",
    "        mlflow.sklearn.log_model(\n",
    "            sk_model = model,\n",
    "            artifact_path = \"\",\n",
    "            registered_model_name = name,\n",
    "            conda_env = conda_env\n",
    "        )"
   ]
  },
  {
   "cell_type": "code",
   "execution_count": null,
   "id": "physical-baking",
   "metadata": {},
   "outputs": [],
   "source": [
    "df = mlflow.search_runs(filter_string=\"metrics.rmse < 1\")"
   ]
  },
  {
   "cell_type": "code",
   "execution_count": null,
   "id": "destroyed-sample",
   "metadata": {},
   "outputs": [],
   "source": [
    "df"
   ]
  },
  {
   "cell_type": "code",
   "execution_count": null,
   "id": "damaged-penny",
   "metadata": {},
   "outputs": [],
   "source": [
    "#Fetching Run ID for best model\n",
    "# run_id = df.loc[df['metrics.rmse'].idxmin()]['run_id']\n",
    "#best_model_url = df.loc[df['metrics.rmse'].idxmin()][\"artifact_uri\"]\n",
    "# Load model as a PyFuncModel.\n",
    "#best_model = mlflow.pyfunc.load_model(best_model_url)\n",
    "#y_pred = best_model.predict(X_val)\n",
    "#print(y_pred[0:10])"
   ]
  },
  {
   "cell_type": "markdown",
   "id": "apart-calendar",
   "metadata": {},
   "source": [
    "## Deploy Models from MLflow to Seldon Core"
   ]
  },
  {
   "cell_type": "code",
   "execution_count": null,
   "id": "enormous-census",
   "metadata": {},
   "outputs": [],
   "source": [
    "#from mlflow import pyfunc.load_model(model_uri=\"models:/wine-model-a\")\n",
    "from mlflow.tracking import MlflowClient\n",
    "\n",
    "client = MlflowClient()\n",
    "\n",
    "model_a_version = client.get_latest_versions(\"wine-model-a\", stages=[\"None\"])[0].version\n",
    "model_b_version = client.get_latest_versions(\"wine-model-b\", stages=[\"None\"])[0].version"
   ]
  },
  {
   "cell_type": "code",
   "execution_count": null,
   "id": "recovered-scottish",
   "metadata": {},
   "outputs": [],
   "source": [
    "import seldon_core_utils\n",
    "\n",
    "ab = seldon_core_utils.ab_deployment(\n",
    "    name=\"ab\",\n",
    "    namespace=\"default\",\n",
    "    secret_name=\"mlflow-seldon-secret\",\n",
    "    model_a_name=\"wine-model-a\",\n",
    "    model_a_version=model_a_version,\n",
    "    model_b_name=\"wine-model-b\",\n",
    "    model_b_version=model_b_version,\n",
    "    model_a_traffic=50,\n",
    ")"
   ]
  },
  {
   "cell_type": "code",
   "execution_count": null,
   "id": "southwest-marine",
   "metadata": {},
   "outputs": [],
   "source": [
    "from pprint import pprint as pp\n",
    "pp(ab)"
   ]
  }
 ],
 "metadata": {
  "kernelspec": {
   "display_name": "Python 3",
   "language": "python",
   "name": "python3"
  },
  "language_info": {
   "codemirror_mode": {
    "name": "ipython",
    "version": 3
   },
   "file_extension": ".py",
   "mimetype": "text/x-python",
   "name": "python",
   "nbconvert_exporter": "python",
   "pygments_lexer": "ipython3",
   "version": "3.9.1"
  }
 },
 "nbformat": 4,
 "nbformat_minor": 5
}
